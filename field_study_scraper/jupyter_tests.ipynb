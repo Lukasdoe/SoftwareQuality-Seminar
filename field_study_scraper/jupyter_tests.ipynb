{
 "cells": [
  {
   "cell_type": "code",
   "execution_count": 3,
   "id": "918351e0",
   "metadata": {},
   "outputs": [
    {
     "name": "stdout",
     "output_type": "stream",
     "text": [
      "The autoreload extension is already loaded. To reload it, use:\n",
      "  %reload_ext autoreload\n"
     ]
    }
   ],
   "source": [
    "%load_ext autoreload\n",
    "%autoreload 2"
   ]
  },
  {
   "cell_type": "code",
   "execution_count": 4,
   "id": "7004ee4b",
   "metadata": {},
   "outputs": [],
   "source": [
    "from repository_scanner import RepositoryScanner\n",
    "from commit_scanners import ConfigFileScanner, InjectionScanner, ProfilingScanner, ReflectionScanner\n",
    "import pandas as pd\n",
    "import glob\n",
    "import re"
   ]
  },
  {
   "cell_type": "code",
   "execution_count": null,
   "id": "66b96386",
   "metadata": {},
   "outputs": [],
   "source": [
    "#!/usr/bin/env python3\n",
    "\n",
    "from repository_scanner import RepositoryScanner\n",
    "from commit_scanners import ConfigFileScanner, InjectionScanner, ProfilingScanner, ReflectionScanner\n",
    "import pandas as pd\n",
    "\n",
    "scanner = RepositoryScanner(\n",
    "    \"https://github.com/apache/cxf\",\n",
    "    \"master\",\n",
    "    \"649520354501295859b692ddf1b42adb919affbb\",\n",
    "    [\n",
    "        ReflectionScanner(\n",
    "            export_path_changes=f\"./apache_cxf_study/reflected_class_changes.csv\",\n",
    "            export_path_access=f\"./apache_cxf_study/reflection_access.csv\",\n",
    "        ),\n",
    "        ProfilingScanner(f\"./apache_cxf_study/profiling_scan.csv\"),\n",
    "        InjectionScanner(f\"./apache_cxf_study/injection_scan.csv\"),\n",
    "        ConfigFileScanner(f\"./apache_cxf_study/config_file_scan.csv\"),\n",
    "    ],\n",
    ")\n",
    "\n",
    "scanner.run()"
   ]
  },
  {
   "cell_type": "code",
   "execution_count": null,
   "id": "329f49b7",
   "metadata": {},
   "outputs": [],
   "source": [
    "from collect_data import collect_box_plot\n",
    "collect_box_plot()"
   ]
  },
  {
   "cell_type": "code",
   "execution_count": null,
   "id": "7957d2da",
   "metadata": {},
   "outputs": [],
   "source": [
    "for j in range(100):\n",
    "    df = pd.read_csv(f\"./reflection_data/reflection_access_{j}.csv\")\n",
    "    commit_hashes = df[\"commit_hash\"].drop_duplicates()\n",
    "\n",
    "    for i in range(len(commit_hashes) - 1):\n",
    "        diff = pd.concat([df[df[\"commit_hash\"] == commit_hashes.iloc[i]], df[df[\"commit_hash\"] == commit_hashes.iloc[i+1]]])[[\"file_path\", \"filename\", \"accessed_class\"]].drop_duplicates(keep=False)\n",
    "        if len(diff) > 0:\n",
    "            print(j, len(diff), commit_hashes.iloc[i], diff)"
   ]
  },
  {
   "cell_type": "code",
   "execution_count": 5,
   "id": "0f78aae7",
   "metadata": {},
   "outputs": [
    {
     "name": "stdout",
     "output_type": "stream",
     "text": [
      "Of the 10000 scanned commits, 989 external_files unsfty, 153 injection unsafety, 51 reflections access unsfty and 72 reflections changes unsafety.\n",
      "Number of commits with at least one unsafety: 1151\n",
      "This results in the following percentages: 0.8592528236316247 external_files unsfty, 0.13292788879235448 injection unsafety, 0.044309296264118156 reflections access unsfty and 0.06255430060816682 reflections changes unsafety.\n",
      "[40, 3, 1, 14, 15, 0, 22, 21, 1, 1, 15, 4, 3, 8, 27, 6, 10, 0, 4, 1, 16, 0, 0, 2, 0, 33, 36, 3, 32, 2, 86, 2, 1, 0, 0, 0, 8, 1, 1, 8, 2, 2, 18, 0, 0, 29, 10, 0, 2, 2, 1, 14, 11, 61, 11, 7, 41, 8, 16, 7, 0, 12, 0, 12, 0, 0, 0, 7, 0, 30, 0, 1, 26, 14, 0, 1, 5, 0, 15, 18, 2, 0, 14, 11, 3, 0, 0, 54, 7, 12, 0, 13, 15, 7, 15, 0, 2, 21, 3, 0]\n",
      "[1, 0, 0, 0, 0, 1, 1, 0, 0, 0, 12, 0, 0, 0, 0, 6, 0, 0, 1, 0, 1, 0, 1, 0, 8, 1, 0, 0, 0, 17, 1, 0, 0, 0, 0, 0, 0, 1, 11, 0, 0, 0, 1, 0, 0, 5, 0, 0, 0, 0, 0, 0, 0, 1, 0, 0, 5, 0, 0, 3, 8, 0, 2, 0, 0, 0, 5, 1, 1, 0, 0, 1, 0, 0, 0, 0, 0, 0, 0, 0, 1, 3, 1, 0, 0, 5, 0, 3, 0, 0, 0, 3, 2, 2, 0, 0, 0, 31, 4, 2]\n",
      "[0, 2, 0, 1, 0, 0, 0, 0, 0, 0, 0, 0, 0, 0, 0, 8, 0, 0, 0, 0, 2, 2, 4, 0, 0, 0, 0, 0, 0, 0, 0, 0, 2, 0, 6, 0, 0, 0, 0, 0, 0, 0, 0, 0, 0, 0, 0, 0, 0, 0, 0, 0, 0, 0, 0, 0, 0, 0, 0, 0, 0, 0, 0, 0, 6, 0, 0, 1, 0, 0, 0, 0, 0, 0, 0, 0, 0, 0, 0, 0, 0, 0, 0, 0, 0, 0, 0, 0, 0, 0, 0, 1, 0, 0, 10, 0, 6, 0, 0, 0]\n",
      "[0, 0, 0, 0, 0, 0, 0, 0, 0, 0, 0, 0, 0, 0, 0, 0, 0, 0, 0, 0, 0, 0, 0, 0, 0, 0, 0, 0, 0, 0, 0, 0, 0, 0, 0, 0, 0, 0, 9, 0, 0, 0, 0, 0, 0, 0, 0, 0, 0, 0, 0, 0, 0, 2, 0, 0, 0, 0, 0, 0, 0, 0, 0, 0, 48, 0, 0, 0, 0, 0, 0, 0, 0, 0, 0, 1, 0, 0, 7, 0, 0, 0, 0, 0, 0, 1, 0, 0, 0, 0, 0, 0, 0, 0, 3, 0, 1, 0, 0, 0]\n"
     ]
    }
   ],
   "source": [
    "from collect_data import unsafety_per_commit\n",
    "unsafety_per_commit()"
   ]
  },
  {
   "cell_type": "code",
   "execution_count": null,
   "id": "2e6b00ed",
   "metadata": {},
   "outputs": [],
   "source": []
  }
 ],
 "metadata": {
  "interpreter": {
   "hash": "31f2aee4e71d21fbe5cf8b01ff0e069b9275f58929596ceb00d14d90e3e16cd6"
  },
  "kernelspec": {
   "display_name": "Python [conda env:softwareQuality] *",
   "language": "python",
   "name": "python3"
  },
  "language_info": {
   "codemirror_mode": {
    "name": "ipython",
    "version": 3
   },
   "file_extension": ".py",
   "mimetype": "text/x-python",
   "name": "python",
   "nbconvert_exporter": "python",
   "pygments_lexer": "ipython3",
   "version": "3.9.7"
  }
 },
 "nbformat": 4,
 "nbformat_minor": 5
}
